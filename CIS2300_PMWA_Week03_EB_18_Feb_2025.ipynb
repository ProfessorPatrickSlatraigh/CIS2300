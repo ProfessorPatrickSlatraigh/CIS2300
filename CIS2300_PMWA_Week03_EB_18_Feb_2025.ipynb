{
  "cells": [
    {
      "cell_type": "markdown",
      "metadata": {
        "id": "view-in-github",
        "colab_type": "text"
      },
      "source": [
        "<a href=\"https://colab.research.google.com/github/ProfessorPatrickSlatraigh/CIS2300/blob/main/CIS2300_PMWA_Week03_EB_18_Feb_2025.ipynb\" target=\"_parent\"><img src=\"https://colab.research.google.com/assets/colab-badge.svg\" alt=\"Open In Colab\"/></a>"
      ]
    },
    {
      "cell_type": "markdown",
      "source": [
        "<b>CIS2300-PMWA Week 03 Brightspace - <u>Debugging and Conditional Execution</b></u>  \n",
        "<i>by Ecem Basak, Feb-2025</i>\n",
        "\n",
        "<i><font color='green'>note: there is a [student version of this Colab notebook available online](https://bit.ly/cis2300pmwa-week03)<font color='green'> at bit.ly/cis2300pmwa-week03</i></font>  \n",
        "\n",
        "\n"
      ],
      "metadata": {
        "id": "7YhWxn_zdwy3"
      },
      "id": "7YhWxn_zdwy3"
    },
    {
      "cell_type": "markdown",
      "id": "f21ba25e-98d3-4758-bf8c-41941e0af783",
      "metadata": {
        "id": "f21ba25e-98d3-4758-bf8c-41941e0af783"
      },
      "source": [
        "# Chapter 3 :Debugging"
      ]
    },
    {
      "cell_type": "markdown",
      "id": "d1a680bb-15b3-469c-b181-8085a4612987",
      "metadata": {
        "id": "d1a680bb-15b3-469c-b181-8085a4612987"
      },
      "source": [
        "### How to Avoid Debugging\n",
        "\n",
        "1. **Understand the Problem**  \n",
        "   - Grasp what you're trying to achieve, even if you don't know how to do it all.  \n",
        "   - This helps you test and identify if the solution is correct.\n",
        "   \n",
        "2. **Start Small**  \n",
        "   - Begin with small code snippets and ensure they work before expanding.  \n",
        "   - This provides immediate feedback and makes it easier to spot issues.\n",
        "\n",
        "3. **Keep Improving It**  \n",
        "   - Add small pieces incrementally, testing each one to isolate errors.\n",
        "     \n",
        "4. **Create Small Victories**  \n",
        "   - Celebrate small successes to stay motivated and make debugging more enjoyable.\n"
      ]
    },
    {
      "cell_type": "markdown",
      "id": "194abb2f-2df1-4fed-b811-3357af0f674a",
      "metadata": {
        "id": "194abb2f-2df1-4fed-b811-3357af0f674a"
      },
      "source": [
        "### Week 2 POGIL Exercise: Total Cost of Lunch Order\n",
        "\n",
        "Write a program that calculates the total cost of a lunch order based on the number of hamburgers, fries, and drinks the user orders. The prices are as follows:\n",
        "\n",
        "- Hamburgers: 2.00 USD\n",
        "- Fries: 1.50 USD\n",
        "- Drinks: 1.00 USD\n",
        "\n",
        "The program should:\n",
        "\n",
        "1. Prompt the user for the number of hamburgers, fries, and drinks they want.\n",
        "2. Calculate the total cost based on the quantities entered.\n",
        "3. Display the total cost."
      ]
    },
    {
      "cell_type": "code",
      "execution_count": null,
      "id": "11491b0c-5a65-4a79-acd3-b91aee0e06a5",
      "metadata": {
        "id": "11491b0c-5a65-4a79-acd3-b91aee0e06a5"
      },
      "outputs": [],
      "source": [
        "# Defining the prices of each item\n",
        "hamburger_price = 2.00\n",
        "fries_price = 1.50\n",
        "drink_price = 1.00\n",
        "\n",
        "# Using the print() to see whether they are correctly assigned\n",
        "print(hamburger_price)\n",
        "print(fries_price)\n",
        "print(drink_price)"
      ]
    },
    {
      "cell_type": "code",
      "execution_count": null,
      "id": "f9668d07-644e-4244-aa3d-a9e8750a07dd",
      "metadata": {
        "id": "f9668d07-644e-4244-aa3d-a9e8750a07dd"
      },
      "outputs": [],
      "source": [
        "# Asking the user for input on the number of items they want to order\n",
        "hamburgers_input = input(\"How many hamburgers would you like to order? $2.00 each: \")\n",
        "fries_input = input(\"How many fries would you like to order? $1.50 each: \")\n",
        "drinks_input = input(\"How many drinks would you like to order? $1.00 each: \")\n",
        "\n",
        "# Printing the user inputs to check if they are correctly received\n",
        "print(hamburgers_input)\n",
        "print(fries_input)\n",
        "print(drinks_input)"
      ]
    },
    {
      "cell_type": "code",
      "execution_count": null,
      "id": "41ca88a0-8f94-401c-9122-1fb8e2b3f810",
      "metadata": {
        "id": "41ca88a0-8f94-401c-9122-1fb8e2b3f810"
      },
      "outputs": [],
      "source": [
        "# Converting the input strings to integers to perform calculations\n",
        "hamburgers = int(hamburgers_input)\n",
        "fries = int(fries_input)\n",
        "drinks = int(drinks_input)\n",
        "\n",
        "# Printing the type of each variable to confirm they are integers\n",
        "print(type(hamburgers))\n",
        "print(type(fries))\n",
        "print(type(drinks))"
      ]
    },
    {
      "cell_type": "code",
      "execution_count": null,
      "id": "848b8233-8993-4743-8ebc-fb9f99870afa",
      "metadata": {
        "id": "848b8233-8993-4743-8ebc-fb9f99870afa"
      },
      "outputs": [],
      "source": [
        "# Calculating the total cost for each item based on the quantity and price\n",
        "total_hamburgers = hamburgers * hamburger_price\n",
        "total_fries = fries * fries_price\n",
        "total_drinks = drinks * drink_price\n",
        "\n",
        "# Printing the total cost for each item\n",
        "print(total_hamburgers)\n",
        "print(total_fries)\n",
        "print(total_drinks)"
      ]
    },
    {
      "cell_type": "code",
      "execution_count": null,
      "id": "08585cc7-c163-4302-a836-62fc51c9361d",
      "metadata": {
        "id": "08585cc7-c163-4302-a836-62fc51c9361d"
      },
      "outputs": [],
      "source": [
        "# Calculating the total cost for the order\n",
        "total = total_hamburgers + total_fries + total_drinks\n",
        "\n",
        "# Printing the final total\n",
        "print (\"The total is\", total)"
      ]
    },
    {
      "cell_type": "markdown",
      "id": "edb2c9e4-fca2-46d5-8c72-faef962510d3",
      "metadata": {
        "id": "edb2c9e4-fca2-46d5-8c72-faef962510d3"
      },
      "source": [
        "**What if we do not convert the user input to integer?**"
      ]
    },
    {
      "cell_type": "code",
      "execution_count": null,
      "id": "2e5e335c-376d-40be-bc94-41c9906d545c",
      "metadata": {
        "id": "2e5e335c-376d-40be-bc94-41c9906d545c"
      },
      "outputs": [],
      "source": [
        "hamburger_price = 2.00\n",
        "hamburgers_input = input(\"How many hamburgers would you like to order? $2.00 each: \")\n",
        "total_hamburgers = hamburgers_input * hamburger_price\n",
        "print(total_hamburgers)"
      ]
    },
    {
      "cell_type": "markdown",
      "id": "b8300d59-8b39-4dd8-a305-9e6ec4dd85f2",
      "metadata": {
        "id": "b8300d59-8b39-4dd8-a305-9e6ec4dd85f2"
      },
      "source": [
        "### **Parse Error**\n",
        "\n",
        "A **ParseError** in Python happens when there's a syntax mistake, like missing punctuation (commas, parentheses, or quotes). Python can't understand the code properly if these rules aren't followed."
      ]
    },
    {
      "cell_type": "code",
      "execution_count": null,
      "id": "ecbcf319-b7f7-4cc6-b52f-30ecd19970d2",
      "metadata": {
        "id": "ecbcf319-b7f7-4cc6-b52f-30ecd19970d2"
      },
      "outputs": [],
      "source": [
        "print(\"Hello World\""
      ]
    },
    {
      "cell_type": "code",
      "execution_count": null,
      "id": "632d1ce1-0447-4fb9-942a-ff2884ad7589",
      "metadata": {
        "scrolled": true,
        "id": "632d1ce1-0447-4fb9-942a-ff2884ad7589"
      },
      "outputs": [],
      "source": [
        "print('Hello World\")"
      ]
    },
    {
      "cell_type": "code",
      "execution_count": null,
      "id": "dc454617-7283-41b8-a1b4-8ff99c187d9a",
      "metadata": {
        "id": "dc454617-7283-41b8-a1b4-8ff99c187d9a"
      },
      "outputs": [],
      "source": [
        "y = \"Hello"
      ]
    },
    {
      "cell_type": "markdown",
      "id": "a88e5464-e924-48b5-a566-cccad5a291ef",
      "metadata": {
        "id": "a88e5464-e924-48b5-a566-cccad5a291ef"
      },
      "source": [
        "### **Type Error**\n",
        "\n",
        "A **TypeError** occurs when you try to perform an operation on incompatible data types.\n"
      ]
    },
    {
      "cell_type": "code",
      "execution_count": null,
      "id": "5a73e011-a384-4f9b-8dfe-9666d7efdb2c",
      "metadata": {
        "id": "5a73e011-a384-4f9b-8dfe-9666d7efdb2c"
      },
      "outputs": [],
      "source": [
        "cost = 10\n",
        "print(\"The total cost:\" + cost)"
      ]
    },
    {
      "cell_type": "code",
      "execution_count": null,
      "id": "fa3b20b9-89c3-496b-a929-67fd5bf9b11e",
      "metadata": {
        "id": "fa3b20b9-89c3-496b-a929-67fd5bf9b11e"
      },
      "outputs": [],
      "source": [
        "x = 5\n",
        "y = \"Hello\"\n",
        "z = y + x"
      ]
    },
    {
      "cell_type": "markdown",
      "id": "41b01012-d9de-4062-af61-5007ddeb2f26",
      "metadata": {
        "id": "41b01012-d9de-4062-af61-5007ddeb2f26"
      },
      "source": [
        "### **Name Error**\n",
        "\n",
        "A **NameError** occurs when a variable is used before it is assigned a value or due to a typo in the variable name. Carefully check your code for spelling mistakes and ensure that variables are initialized before use."
      ]
    },
    {
      "cell_type": "code",
      "execution_count": null,
      "id": "9fc7c8cc-4aca-49f6-9be6-d43fd8b5b090",
      "metadata": {
        "id": "9fc7c8cc-4aca-49f6-9be6-d43fd8b5b090"
      },
      "outputs": [],
      "source": [
        "print(apple)\n",
        "apple = 10"
      ]
    },
    {
      "cell_type": "code",
      "execution_count": null,
      "id": "a48dbfa2-65e2-4758-bc89-33b370673aab",
      "metadata": {
        "id": "a48dbfa2-65e2-4758-bc89-33b370673aab"
      },
      "outputs": [],
      "source": [
        "name = \"Ecem\"\n",
        "print(nmae)"
      ]
    },
    {
      "cell_type": "markdown",
      "id": "3ffc29a9-9ef5-4258-a90a-ec1051ca6157",
      "metadata": {
        "id": "3ffc29a9-9ef5-4258-a90a-ec1051ca6157"
      },
      "source": [
        "### **Value Error**\n",
        "\n",
        "A **ValueError** occurs when you pass a value to a function that doesn't match the expected type or range."
      ]
    },
    {
      "cell_type": "code",
      "execution_count": null,
      "id": "12d754ed-cae4-423f-af75-5747c5cdba9d",
      "metadata": {
        "id": "12d754ed-cae4-423f-af75-5747c5cdba9d"
      },
      "outputs": [],
      "source": [
        "int(\"hello\")"
      ]
    },
    {
      "cell_type": "markdown",
      "source": [
        "\n",
        "\n",
        "---\n",
        "\n"
      ],
      "metadata": {
        "id": "SZwQ6FtDdt6v"
      },
      "id": "SZwQ6FtDdt6v"
    },
    {
      "cell_type": "markdown",
      "id": "4ee21594-ee26-449f-8ca5-ce5a00eb9ba0",
      "metadata": {
        "id": "4ee21594-ee26-449f-8ca5-ce5a00eb9ba0"
      },
      "source": [
        "# Chapter 4: Conditional Execution"
      ]
    },
    {
      "cell_type": "markdown",
      "id": "9c5115dd-8f07-4de6-9854-3718d7fac25f",
      "metadata": {
        "id": "9c5115dd-8f07-4de6-9854-3718d7fac25f"
      },
      "source": [
        "## Boolean Experessions"
      ]
    },
    {
      "cell_type": "markdown",
      "id": "2e73d109-0047-45ea-b208-5293a9d4662d",
      "metadata": {
        "id": "2e73d109-0047-45ea-b208-5293a9d4662d"
      },
      "source": [
        "A **boolean expression** is an expression that evaluates to either `True` or `False`. We use the `==` operator to compare two operands. Then, it produces `True` if they are equal and `False` otherwise."
      ]
    },
    {
      "cell_type": "code",
      "execution_count": null,
      "id": "11e1ce75-1f12-4d66-aa14-0805488808d8",
      "metadata": {
        "id": "11e1ce75-1f12-4d66-aa14-0805488808d8"
      },
      "outputs": [],
      "source": [
        "x = 10\n",
        "y = 15\n",
        "x == y"
      ]
    },
    {
      "cell_type": "code",
      "execution_count": null,
      "id": "1ed4199a-f7cc-4727-b150-c18d8b43f8b2",
      "metadata": {
        "id": "1ed4199a-f7cc-4727-b150-c18d8b43f8b2"
      },
      "outputs": [],
      "source": [
        "x = 10\n",
        "y = 10\n",
        "x == y"
      ]
    },
    {
      "cell_type": "code",
      "execution_count": null,
      "id": "857a7af8-67b9-4efc-b3c1-592dd5c13536",
      "metadata": {
        "id": "857a7af8-67b9-4efc-b3c1-592dd5c13536"
      },
      "outputs": [],
      "source": [
        "print(type(x == y))"
      ]
    },
    {
      "cell_type": "markdown",
      "id": "b8fbe0da-2aa3-4c05-99bc-1d380a9c63f9",
      "metadata": {
        "id": "b8fbe0da-2aa3-4c05-99bc-1d380a9c63f9"
      },
      "source": [
        "### Comparison Operators\n",
        "\n",
        "- `x != y`               # x is not equal to y\n",
        "- `x > y`                # x is greater than y\n",
        "- `x < y`                # x is less than y\n",
        "- `x >= y`               # x is greater than or equal to y\n",
        "- `x <= y`               # x is less than or equal to y\n",
        "- `x is y`               # x is the same as y\n",
        "- `x is not y`           # x is not the same as y\n"
      ]
    },
    {
      "cell_type": "markdown",
      "id": "4c723b7d-8eac-469d-b33b-75dadcc05007",
      "metadata": {
        "id": "4c723b7d-8eac-469d-b33b-75dadcc05007"
      },
      "source": [
        "**QUESTION:** Given `a = 15` and `b = 20`, what will each comparison operator produce?"
      ]
    },
    {
      "cell_type": "code",
      "execution_count": null,
      "id": "3f28237b-76b5-4aa8-8495-3cefec61745e",
      "metadata": {
        "id": "3f28237b-76b5-4aa8-8495-3cefec61745e"
      },
      "outputs": [],
      "source": []
    },
    {
      "cell_type": "markdown",
      "id": "6ebab7c5-127e-4e88-b821-e03fe0d6750f",
      "metadata": {
        "id": "6ebab7c5-127e-4e88-b821-e03fe0d6750f"
      },
      "source": [
        "## Logical Operators\n",
        "\n",
        "In Python, logical operators are used to combine conditional statements. The three main logical operators are:\n",
        "\n",
        "1. **`and`**:\n",
        "   - The `and` operator returns `True` if both conditions are true. If at least one condition is `False`, it returns `False`.\n",
        "   - **Example**:\n",
        "     ```python\n",
        "     x = 5\n",
        "     y = 10\n",
        "     result = (x > 2) and (y < 15)  # This will return True because both conditions are true\n",
        "     ```\n",
        "\n",
        "2. **`or`**:\n",
        "   - The `or` operator returns `True` if at least one of the conditions is true. If both conditions are `False`, it returns `False`.\n",
        "   - **Example**:\n",
        "     ```python\n",
        "     x = 5\n",
        "     y = 10\n",
        "     result = (x < 2) or (y > 8)  # This will return True because y > 8 is true\n",
        "     ```\n",
        "\n",
        "3. **`not`**:\n",
        "   - The `not` operator is used to reverse the logical state of its operand. If the condition is `True`, it returns `False`, and if the condition is `False`, it returns `True`.\n",
        "   - **Example**:\n",
        "     ```python\n",
        "     x = 5\n",
        "     result = not(x > 10)  # This will return True because x is not greater than 10\n",
        "     ```\n",
        "\n",
        "### Summary of the Operators:\n",
        "- `and` is true only if both conditions are true.\n",
        "- `or` is true if at least one condition is true.\n",
        "- `not` reverses the result of the condition.\n"
      ]
    },
    {
      "cell_type": "code",
      "execution_count": null,
      "id": "94913bf8-e2eb-4499-ac1a-4f68f57ac834",
      "metadata": {
        "id": "94913bf8-e2eb-4499-ac1a-4f68f57ac834"
      },
      "outputs": [],
      "source": [
        "x = 5\n",
        "y = 10\n",
        "result = (x > 2) and (y < 15)\n",
        "print(result)"
      ]
    },
    {
      "cell_type": "code",
      "execution_count": null,
      "id": "65665202-d60d-4b3d-9363-e558fa77fbe6",
      "metadata": {
        "id": "65665202-d60d-4b3d-9363-e558fa77fbe6"
      },
      "outputs": [],
      "source": [
        "x = 5\n",
        "y = 10\n",
        "x > 2 and y < 15"
      ]
    },
    {
      "cell_type": "code",
      "execution_count": null,
      "id": "cb9a02e5-09ad-44a1-88f9-ae0a369dbfb5",
      "metadata": {
        "id": "cb9a02e5-09ad-44a1-88f9-ae0a369dbfb5"
      },
      "outputs": [],
      "source": [
        "x = 5\n",
        "y = 10\n",
        "result = (x < 2) or (y > 8)\n",
        "print(result)"
      ]
    },
    {
      "cell_type": "code",
      "execution_count": null,
      "id": "8e794094-993d-4f55-bd0f-68348fbc30ae",
      "metadata": {
        "id": "8e794094-993d-4f55-bd0f-68348fbc30ae"
      },
      "outputs": [],
      "source": [
        "x = 5\n",
        "y = 10\n",
        "x < 2 or y > 8"
      ]
    },
    {
      "cell_type": "code",
      "execution_count": null,
      "id": "fc56821f-4662-4d32-9b62-2bd4e120fd68",
      "metadata": {
        "id": "fc56821f-4662-4d32-9b62-2bd4e120fd68"
      },
      "outputs": [],
      "source": [
        "x = 5\n",
        "result = not(x > 10)\n",
        "print(result)"
      ]
    },
    {
      "cell_type": "code",
      "execution_count": null,
      "id": "6b711ec1-f5df-4ef3-9cd9-863480c08a1c",
      "metadata": {
        "id": "6b711ec1-f5df-4ef3-9cd9-863480c08a1c"
      },
      "outputs": [],
      "source": [
        "x = 5\n",
        "not x > 10"
      ]
    },
    {
      "cell_type": "code",
      "execution_count": null,
      "id": "c8b38581-acf9-4432-8f63-4be85d12b0bb",
      "metadata": {
        "id": "c8b38581-acf9-4432-8f63-4be85d12b0bb"
      },
      "outputs": [],
      "source": [
        "x = 5\n",
        "y = 10\n",
        "x > 10"
      ]
    },
    {
      "cell_type": "code",
      "execution_count": null,
      "id": "3f29568f-1c33-49b5-be78-bc067ba1dc12",
      "metadata": {
        "id": "3f29568f-1c33-49b5-be78-bc067ba1dc12"
      },
      "outputs": [],
      "source": [
        "x = 5\n",
        "y = 10\n",
        "not x < y"
      ]
    },
    {
      "cell_type": "code",
      "execution_count": null,
      "id": "be711da4-9caa-4f6f-9120-d8a5cf939364",
      "metadata": {
        "id": "be711da4-9caa-4f6f-9120-d8a5cf939364"
      },
      "outputs": [],
      "source": [
        "x = 5\n",
        "y = 10\n",
        "x < 7 and y < 10"
      ]
    },
    {
      "cell_type": "markdown",
      "id": "f0da6193-64e9-4eb9-9fc2-9f3b9fba7124",
      "metadata": {
        "id": "f0da6193-64e9-4eb9-9fc2-9f3b9fba7124"
      },
      "source": [
        "### Conditional Execution\n",
        "\n",
        "In Python, conditions are used to make decisions based on certain criteria. These conditions are usually created using **if**, **elif**, and **else** statements. The logical flow of execution depends on whether the condition is `True` or `False`.\n",
        "\n",
        "#### 1. **if Statement**\n",
        "\n",
        "The `if` statement checks if a condition is `True` and, if so, executes the block of code inside it.\n",
        "\n",
        "```python\n",
        "x = 10\n",
        "if x > 5:\n",
        "    print(\"x is greater than 5\")"
      ]
    },
    {
      "cell_type": "code",
      "execution_count": null,
      "id": "f3ba6646-8f57-4eb6-a44a-1f3304ad8bad",
      "metadata": {
        "id": "f3ba6646-8f57-4eb6-a44a-1f3304ad8bad"
      },
      "outputs": [],
      "source": [
        "x = 10\n",
        "if x > 5:\n",
        "    print(\"x is greater than 5\")"
      ]
    },
    {
      "cell_type": "code",
      "execution_count": null,
      "id": "89c50e68-8bbd-4859-b0b7-139563472558",
      "metadata": {
        "id": "89c50e68-8bbd-4859-b0b7-139563472558"
      },
      "outputs": [],
      "source": [
        "x = 3\n",
        "if x > 5:\n",
        "    print(\"x is greater than 5\")"
      ]
    },
    {
      "cell_type": "markdown",
      "id": "170c8069-8741-4be1-b16f-fe8683215e2f",
      "metadata": {
        "id": "170c8069-8741-4be1-b16f-fe8683215e2f"
      },
      "source": [
        "### Key Elements of an `if` Statement\n",
        "\n",
        "#### 1. **Condition**:\n",
        "The **condition** is the expression inside the `if` statement that evaluates to either `True` or `False`. If the condition evaluates to `True`, the code block inside the `if` statement will execute.\n",
        "\n",
        "#### 2. **Colon(:)**:\n",
        "The colon (`:`) is required at the end of the `if` statement. It indicates that the following indented code block is part of the `if` statement.\n",
        "\n",
        "#### 3. **Indentation**:\n",
        "**Indentation** is used in Python to define the code block that belongs to the `if` statement. It is essential for the structure of Python programs. Typically, 4 spaces are used for indentation. The code inside the `if` block must be indented properly. You can also use `tab`.\n",
        "\n",
        "Example:\n",
        "```python\n",
        "if x > 5:  # The colon marks the start of the indented block\n",
        "    print(\"x is greater than 5\") # Correct indentation\n",
        "```\n"
      ]
    },
    {
      "cell_type": "code",
      "execution_count": null,
      "id": "4711da64-36e1-4a6d-b4d1-00387adc57e1",
      "metadata": {
        "id": "4711da64-36e1-4a6d-b4d1-00387adc57e1"
      },
      "outputs": [],
      "source": [
        "if x > 5\n",
        "    print(\"x is greater than 5\")"
      ]
    },
    {
      "cell_type": "code",
      "execution_count": null,
      "id": "43ab1b9f-8116-4d16-9dd8-e477ab1b6e0c",
      "metadata": {
        "id": "43ab1b9f-8116-4d16-9dd8-e477ab1b6e0c"
      },
      "outputs": [],
      "source": [
        "if x > 5:\n",
        "print(\"x is greater than 5\")"
      ]
    },
    {
      "cell_type": "code",
      "execution_count": null,
      "id": "1c9cb79f-970d-4f31-ad45-5d0eb73bc1f6",
      "metadata": {
        "id": "1c9cb79f-970d-4f31-ad45-5d0eb73bc1f6"
      },
      "outputs": [],
      "source": [
        "x = 5\n",
        "print('Before 5')\n",
        "if  x == 5 :  ## This is one block\n",
        "    print('Is 5')  # Part of the block\n",
        "    print('Is Still 5') # Part of the block\n",
        "    print('Third 5') # Part of the block\n",
        "print('Afterwards 5') # We are out of the block\n",
        "print('Before 6') # We are out of the block\n",
        "if x == 6 :   # This is another block\n",
        "    print('Is 6')  # Part of the block\n",
        "    print('Is Still 6') # Part of the block\n",
        "    print('Third 6') # Part of the block\n",
        "print('Afterwards 6') # Outside of the block"
      ]
    },
    {
      "cell_type": "markdown",
      "id": "e4bd50a5-3f2f-4da7-b93f-a37c39fca5da",
      "metadata": {
        "id": "e4bd50a5-3f2f-4da7-b93f-a37c39fca5da"
      },
      "source": [
        "**QUESTION:** Write a program to check if a number is even.\n",
        "\n",
        "#### Instructions:\n",
        "1. Define a variable `x` and assign it any integer value.\n",
        "2. Use an `if` statement to check if `x` is even (`x % 2 == 0`).\n",
        "3. If the condition is `True`, print `\"x is an even number\"`.\n",
        "4. Print `\"All done\"` at the end, regardless of the condition."
      ]
    },
    {
      "cell_type": "code",
      "execution_count": null,
      "id": "7fabe0c4-5645-4e81-9f41-1c38b39f830b",
      "metadata": {
        "id": "7fabe0c4-5645-4e81-9f41-1c38b39f830b"
      },
      "outputs": [],
      "source": [
        "x = 8\n",
        "if x % 2 == 0:\n",
        "    print(\"x is an even number\")\n",
        "print(\"All done\")"
      ]
    },
    {
      "cell_type": "markdown",
      "id": "5ad7057b-e3b6-468a-ad86-ed328ceda39d",
      "metadata": {
        "id": "5ad7057b-e3b6-468a-ad86-ed328ceda39d"
      },
      "source": [
        "**QUESTION:** Write a program to check if a number is negative or zero."
      ]
    },
    {
      "cell_type": "code",
      "execution_count": null,
      "id": "c666354c-5201-4add-b473-93ab65cb22cc",
      "metadata": {
        "id": "c666354c-5201-4add-b473-93ab65cb22cc"
      },
      "outputs": [],
      "source": [
        "x = -5\n",
        "if x < 0 or x == 0:\n",
        "    print(\"x is either negative or zero\")\n",
        "print(\"All done\")"
      ]
    },
    {
      "cell_type": "markdown",
      "id": "6a7aab2a-78dd-4593-9e86-dd65402604b1",
      "metadata": {
        "id": "6a7aab2a-78dd-4593-9e86-dd65402604b1"
      },
      "source": [
        "**QUESTION:** Write a program to check if a string is empty."
      ]
    },
    {
      "cell_type": "code",
      "execution_count": null,
      "id": "fbe1e704-46f7-4ef3-a56c-0f24cc60a4bf",
      "metadata": {
        "id": "fbe1e704-46f7-4ef3-a56c-0f24cc60a4bf"
      },
      "outputs": [],
      "source": [
        "text = \"\"\n",
        "if not text:\n",
        "    print(\"The string is empty\")\n",
        "print(\"All done\")"
      ]
    },
    {
      "cell_type": "markdown",
      "id": "5e9c858c-122e-4183-a1c8-5049a6014c28",
      "metadata": {
        "id": "5e9c858c-122e-4183-a1c8-5049a6014c28"
      },
      "source": [
        "### Alternative Execution: The `else` Statement\n",
        "\n",
        "In Python, sometimes we want to execute one block of code if a condition is `True`, and a different block if the condition is `False`. This is where the `else` statement comes in. The `else` block runs only if the `if` condition evaluates to `False`.\n",
        "\n",
        "#### Syntax:\n",
        "```python\n",
        "if condition:\n",
        "    # Code to execute if the condition is True\n",
        "else:\n",
        "    # Code to execute if the condition is False\n"
      ]
    },
    {
      "cell_type": "markdown",
      "id": "3c63a9d0-fa48-41e0-81b3-f7d3721ae024",
      "metadata": {
        "id": "3c63a9d0-fa48-41e0-81b3-f7d3721ae024"
      },
      "source": [
        "x = 3\n",
        "if x > 5:\n",
        "    print(\"x is greater than 5\")\n",
        "else:\n",
        "    print(\"x is not greater than 5\")"
      ]
    },
    {
      "cell_type": "markdown",
      "id": "85a40a4e-8078-431f-84b0-6172a68a48ee",
      "metadata": {
        "id": "85a40a4e-8078-431f-84b0-6172a68a48ee"
      },
      "source": [
        "**QUESTION:** Add an else statement to the program above which checks if a number is even."
      ]
    },
    {
      "cell_type": "code",
      "execution_count": null,
      "id": "fd4db1d7-7e08-441c-a47d-cc6696ca9d8b",
      "metadata": {
        "id": "fd4db1d7-7e08-441c-a47d-cc6696ca9d8b"
      },
      "outputs": [],
      "source": [
        "x = 5\n",
        "if x % 2 == 0:\n",
        "    print(\"x is an even number\")\n",
        "else:\n",
        "    print(\"x is not an even number\")\n",
        "print(\"All done\")"
      ]
    },
    {
      "cell_type": "markdown",
      "id": "f855bc4e-b13a-44b8-9034-17dd77243eeb",
      "metadata": {
        "id": "f855bc4e-b13a-44b8-9034-17dd77243eeb"
      },
      "source": [
        "**QUESTION:** Add an else statement to the program above which checks if a string is empty."
      ]
    },
    {
      "cell_type": "code",
      "execution_count": null,
      "id": "6b9484bb-3aff-4443-972a-d9d04a837b61",
      "metadata": {
        "id": "6b9484bb-3aff-4443-972a-d9d04a837b61"
      },
      "outputs": [],
      "source": [
        "text = \"abc\"\n",
        "if not text:\n",
        "    print(\"The string is empty\")\n",
        "else:\n",
        "    print(\"The string is not empty\")\n",
        "print(\"All done\")"
      ]
    },
    {
      "cell_type": "markdown",
      "id": "87175eec-d837-46ca-951b-90dbc89fc89a",
      "metadata": {
        "id": "87175eec-d837-46ca-951b-90dbc89fc89a"
      },
      "source": [
        "**QUESTION:** Write a Python program that checks whether `4 + 5` equals `10`.  \n",
        "\n",
        "#### Instructions:  \n",
        "- Use an `if` statement to check if `4 + 5 == 10`.  \n",
        "- If the condition is `True`, print `\"TRUE\"`.  \n",
        "- Otherwise, use an `else` statement to print `\"FALSE\"`.  "
      ]
    },
    {
      "cell_type": "code",
      "execution_count": null,
      "id": "1dc7b1bd-6e29-4597-a78d-1abc678d93f1",
      "metadata": {
        "id": "1dc7b1bd-6e29-4597-a78d-1abc678d93f1"
      },
      "outputs": [],
      "source": [
        "if 4 + 5 == 10:\n",
        "    print(\"TRUE\")\n",
        "else:\n",
        "    print(\"FALSE\")"
      ]
    },
    {
      "cell_type": "markdown",
      "id": "a51f8a26-e801-41be-b645-679d3228f3c1",
      "metadata": {
        "id": "a51f8a26-e801-41be-b645-679d3228f3c1"
      },
      "source": [
        "### Chained Conditionals: The `elif` Statement\n",
        "\n",
        "In Python, we can check multiple conditions sequentially using the `elif` (short for \"else if\") statement. This allows us to evaluate multiple expressions and execute the corresponding block of code for the first `True` condition.\n",
        "\n",
        "#### Syntax:\n",
        "```python\n",
        "if condition1:\n",
        "    # Code executes if condition1 is True\n",
        "elif condition2:\n",
        "    # Code executes if condition1 is False and condition2 is True\n",
        "elif condition3:\n",
        "    # Code executes if both condition1 and condition2 are False, but condition3 is True\n",
        "else:\n",
        "    # Code executes if all conditions above are False"
      ]
    },
    {
      "cell_type": "code",
      "execution_count": null,
      "id": "00936f4b-2083-4e20-b253-5add0dc803cb",
      "metadata": {
        "id": "00936f4b-2083-4e20-b253-5add0dc803cb"
      },
      "outputs": [],
      "source": [
        "x = 5\n",
        "if x < 2 :\n",
        "    print('small')\n",
        "elif x < 10 :\n",
        "    print('Medium')\n",
        "else :\n",
        "    print('LARGE')\n",
        "print('All done')"
      ]
    },
    {
      "cell_type": "code",
      "execution_count": null,
      "id": "939448a6-f417-4bc3-a145-d4d3f7487ffb",
      "metadata": {
        "id": "939448a6-f417-4bc3-a145-d4d3f7487ffb"
      },
      "outputs": [],
      "source": [
        "x = 20\n",
        "if x < 2 :\n",
        "    print('small')\n",
        "elif x < 10 :\n",
        "    print('Medium')\n",
        "else :\n",
        "    print('LARGE')\n",
        "print('All done')"
      ]
    },
    {
      "cell_type": "markdown",
      "id": "08e07480-77b9-4ab1-be44-f08cbe6d380c",
      "metadata": {
        "id": "08e07480-77b9-4ab1-be44-f08cbe6d380c"
      },
      "source": [
        "**QUESTION:** Which will never print regardless of the value for x?\n",
        "\n",
        "```python\n",
        "if x < 2:\n",
        "    print('Below 2')\n",
        "elif x >= 2:\n",
        "    print('Two or more')\n",
        "else:\n",
        "    print('Something else')\n"
      ]
    },
    {
      "cell_type": "code",
      "execution_count": null,
      "id": "26d24ae2-92ac-45f6-ae24-6df1fab623c6",
      "metadata": {
        "id": "26d24ae2-92ac-45f6-ae24-6df1fab623c6"
      },
      "outputs": [],
      "source": []
    },
    {
      "cell_type": "markdown",
      "id": "9e2a69d6-4b35-4e05-bc82-cdfd3fda70ce",
      "metadata": {
        "id": "9e2a69d6-4b35-4e05-bc82-cdfd3fda70ce"
      },
      "source": [
        "**QUESTION:** Write a simple Python program that checks the value of a variable `x` and prints a message based on its value using an `if`, `elif`, and `else` statement.\n",
        "\n",
        "#### Instructions:\n",
        "- Define a variable `x` and assign it any integer value.\n",
        "- Use an `if` statement to check if `x` is less than 10.\n",
        "- Use an `elif` statement to check if `x` is equal to 10.\n",
        "- Use an `else` statement to print a message if `x` is greater than 10.\n",
        "\n",
        "#### Example Output:\n",
        "- If `x` is less than 10, print `\"x is less than 10\"`.\n",
        "- If `x` equals 10, print `\"x is exactly 10\"`.\n",
        "- If `x` is greater than 10, print `\"x is greater than 10\"`."
      ]
    },
    {
      "cell_type": "code",
      "execution_count": null,
      "id": "75dea0b1-c73a-4abf-a23f-3b1c3ecd7aa5",
      "metadata": {
        "id": "75dea0b1-c73a-4abf-a23f-3b1c3ecd7aa5"
      },
      "outputs": [],
      "source": [
        "x = 15\n",
        "\n",
        "if x < 10:\n",
        "    print(\"x is less than 10\")\n",
        "elif x == 10:\n",
        "    print(\"x is exactly 10\")\n",
        "else:\n",
        "    print(\"x is greater than 10\")"
      ]
    },
    {
      "cell_type": "markdown",
      "id": "25b81ec3-5516-4e15-b899-c7895ab0f40a",
      "metadata": {
        "id": "25b81ec3-5516-4e15-b899-c7895ab0f40a"
      },
      "source": [
        "**QUESTION:** Write a Python program that checks the value of a variable `x` and `y` and prints different messages based on the following conditions:\n",
        "\n",
        "1. If `x` is greater than 5 **and** `y` is less than 20, print `\"Condition 1: x > 5 and y < 20\"`.\n",
        "2. If `x` is less than 5 **or** `y` is greater than 20, print `\"Condition 2: x < 5 or y > 20\"`.\n",
        "3. If `x` is equal to 5 **and** `y` is equal to 20, print `\"Condition 3: x = 5 and y = 20\"`.\n",
        "4. If none of these conditions are met, print `\"No conditions met\"`.\n"
      ]
    },
    {
      "cell_type": "code",
      "execution_count": null,
      "id": "40c947f2-2611-4fd3-ae39-8746453bd373",
      "metadata": {
        "id": "40c947f2-2611-4fd3-ae39-8746453bd373"
      },
      "outputs": [],
      "source": [
        "x = 7\n",
        "y = 15\n",
        "\n",
        "if x > 5 and y < 20:\n",
        "    print(\"Condition 1: x > 5 and y < 20\")\n",
        "elif x < 5 or y > 20:\n",
        "    print(\"Condition 2: x < 5 or y > 20\")\n",
        "elif x == 5 and y == 20:\n",
        "    print(\"Condition 3: x = 5 and y = 20\")\n",
        "else:\n",
        "    print(\"No conditions met\")"
      ]
    },
    {
      "cell_type": "markdown",
      "id": "bc70581a-9709-4a8a-8b40-2a1b2b1276eb",
      "metadata": {
        "id": "bc70581a-9709-4a8a-8b40-2a1b2b1276eb"
      },
      "source": [
        "### Nested Conditions\n",
        "\n",
        "In Python, we can use **nested conditions** to check multiple conditions within an `if`, `elif`, or `else` block. This allows us to check further conditions only if the outer condition is `True`.\n",
        "\n",
        "#### Syntax:\n",
        "```python\n",
        "if condition1:\n",
        "    if condition2:\n",
        "        # Code executes if both condition1 and condition2 are True\n",
        "    else:\n",
        "        # Code executes if condition1 is True and condition2 is False\n",
        "else:\n",
        "    # Code executes if condition1 is False\n"
      ]
    },
    {
      "cell_type": "code",
      "execution_count": null,
      "id": "ef41d6c9-c7dd-4cd5-8633-00cf6b4f06e4",
      "metadata": {
        "id": "ef41d6c9-c7dd-4cd5-8633-00cf6b4f06e4"
      },
      "outputs": [],
      "source": [
        "x = 10\n",
        "y = 5\n",
        "\n",
        "if x > 5:\n",
        "    if y < 10:\n",
        "        print(\"x is greater than 5 and y is less than 10\")\n",
        "    else:\n",
        "        print(\"x is greater than 5 and y is 10 or greater\")\n",
        "else:\n",
        "    print(\"x is 5 or less\")"
      ]
    },
    {
      "cell_type": "markdown",
      "id": "e5b6e5f6-0cc3-4c0f-adb0-31341bbf9a2f",
      "metadata": {
        "id": "e5b6e5f6-0cc3-4c0f-adb0-31341bbf9a2f"
      },
      "source": [
        "#### Explanation:\n",
        "- The program first checks if `x > 5`.\n",
        "- If `x > 5` is `True`, it then checks if `y < 10`.\n",
        "- If both conditions are `True`, it prints `\"x is greater than 5 and y is less than 10\"`.\n",
        "- If `x > 5` is `True` but `y >= 10`, it prints `\"x is greater than 5 and y is 10 or greater\"`.\n",
        "- If `x <= 5`, the `else` block executes and prints `\"x is 5 or less\"`.\n",
        "\n",
        "#### Key Points:\n",
        "- **Nested conditions** are useful when you need to check further conditions within another condition.\n",
        "- **Indentation** is important in Python. The nested condition must be indented inside the outer condition to show that it belongs to it.\n",
        "- You can use as many nested `if` statements as necessary, but be mindful of the readability and complexity of your code. Keeping it simple makes it easier to understand and maintain.\n"
      ]
    },
    {
      "cell_type": "markdown",
      "id": "7ef8649f-6acb-45b6-a5a1-12f4224b94c1",
      "metadata": {
        "id": "7ef8649f-6acb-45b6-a5a1-12f4224b94c1"
      },
      "source": [
        "### Catching Exceptions using `try` and `except`\n",
        "\n",
        "In Python, exceptions are errors that can occur during the execution of a program. These errors can disrupt the normal flow of the program. To handle these errors gracefully, you can use the `try` and `except` blocks.\n",
        "\n",
        "#### 1. **try Block**\n",
        "The `try` block lets you test a block of code for errors. If an error occurs in the `try` block, Python will stop executing the code inside that block and move to the `except` block.\n",
        "\n",
        "#### 2. **except Block**\n",
        "The `except` block lets you handle the error. This block will only be executed if there is an error in the `try` block.\n",
        "\n",
        "### Syntax:\n",
        "\n",
        "```python\n",
        "try:\n",
        "    # Code that may raise an exception\n",
        "    pass\n",
        "except SomeException as e:\n",
        "    # Code to handle the exception\n",
        "    pass\n",
        "\n"
      ]
    },
    {
      "cell_type": "code",
      "execution_count": null,
      "id": "53da3e51-7bda-4fb8-8ae6-09875f88bba9",
      "metadata": {
        "id": "53da3e51-7bda-4fb8-8ae6-09875f88bba9"
      },
      "outputs": [],
      "source": [
        "x = 5/0\n",
        "print(x)"
      ]
    },
    {
      "cell_type": "markdown",
      "id": "c7529113-5c31-48d7-bcc0-d96efa1d794e",
      "metadata": {
        "id": "c7529113-5c31-48d7-bcc0-d96efa1d794e"
      },
      "source": [
        "### Explanation:\n",
        "\n",
        "- In the `try` block, we attempt to divide `5` by `0`, which causes a `ZeroDivisionError`.\n",
        "- The `except` block catches the error and prints a message: \"You cannot divide by zero!\"\n"
      ]
    },
    {
      "cell_type": "code",
      "execution_count": null,
      "id": "b5f120f6-f697-4cd3-a1a7-4b7fa0a37eee",
      "metadata": {
        "id": "b5f120f6-f697-4cd3-a1a7-4b7fa0a37eee"
      },
      "outputs": [],
      "source": [
        "# SOLUTION\n",
        "try:\n",
        "    x = 5 / 0\n",
        "except ZeroDivisionError:\n",
        "    print(\"You cannot divide by zero!\")"
      ]
    },
    {
      "cell_type": "code",
      "execution_count": null,
      "id": "54e5986c-2b25-4f42-bc16-d7d1703ae239",
      "metadata": {
        "id": "54e5986c-2b25-4f42-bc16-d7d1703ae239"
      },
      "outputs": [],
      "source": [
        "number = int(input(\"Enter a number: \"))\n",
        "result = 10 / number\n",
        "print(result)"
      ]
    },
    {
      "cell_type": "markdown",
      "id": "5dfa0f61-eccb-4761-89ce-e5d1d18fe44e",
      "metadata": {
        "id": "5dfa0f61-eccb-4761-89ce-e5d1d18fe44e"
      },
      "source": [
        "### Explanation:\n",
        "\n",
        "- If the user inputs a non-integer value, a `ValueError` will occur, and the corresponding `except` block will execute.\n",
        "- If the user enters `0`, a `ZeroDivisionError` will occur, and the corresponding `except` block will execute."
      ]
    },
    {
      "cell_type": "code",
      "execution_count": null,
      "id": "19bb7f8b-ebb3-4198-84c6-09f55e3d29e3",
      "metadata": {
        "id": "19bb7f8b-ebb3-4198-84c6-09f55e3d29e3"
      },
      "outputs": [],
      "source": [
        "# SOLUTION\n",
        "try:\n",
        "    number = int(input(\"Enter a number: \"))\n",
        "    result = 10 / number\n",
        "    print(result)\n",
        "except ZeroDivisionError:\n",
        "    print(\"You cannot divide by zero!\")\n",
        "except ValueError:\n",
        "    print(\"That's not a valid number!\")"
      ]
    },
    {
      "cell_type": "markdown",
      "id": "b5858ab0-ac99-4dd1-ab03-7f5836a616fb",
      "metadata": {
        "id": "b5858ab0-ac99-4dd1-ab03-7f5836a616fb"
      },
      "source": [
        "### Short-circuit Evaluation of Logical Expressions\n",
        "\n",
        "In Python, logical expressions that involve the `and` and `or` operators are evaluated using **short-circuit evaluation**. This means that Python does not always evaluate both operands in a logical expression. It stops evaluating as soon as the result is determined.\n",
        "\n",
        "#### Short-circuit Evaluation with `and`\n",
        "In an `and` expression, if the first operand is `False`, Python does not evaluate the second operand because the entire expression will always be `False` regardless of the second operand's value.\n",
        "\n",
        "**Example:**\n",
        "\n",
        "```python\n",
        "x = False\n",
        "y = True\n",
        "\n",
        "if x and y:\n",
        "    print(\"Both are true\")\n",
        "else:\n",
        "    print(\"At least one is false\")\n"
      ]
    },
    {
      "cell_type": "code",
      "execution_count": null,
      "id": "c0517fff-208a-492b-8ac4-64d8573176bc",
      "metadata": {
        "id": "c0517fff-208a-492b-8ac4-64d8573176bc"
      },
      "outputs": [],
      "source": [
        "x = 0\n",
        "y = 5\n",
        "\n",
        "if x != 0 and y / x > 1:  # No division by zero occurs due to short-circuiting\n",
        "    print(\"Valid operation\")\n",
        "else:\n",
        "    print(\"Invalid operation or condition not met\")"
      ]
    },
    {
      "cell_type": "code",
      "execution_count": null,
      "id": "c077f90f-fc98-4898-af3d-4ebe0c39ae4a",
      "metadata": {
        "id": "c077f90f-fc98-4898-af3d-4ebe0c39ae4a"
      },
      "outputs": [],
      "source": [
        "x = 6\n",
        "y = 0\n",
        "print(x >= 2 and  y != 0 and (x/y) > 2)"
      ]
    },
    {
      "cell_type": "code",
      "execution_count": null,
      "id": "aa77941f-92ea-4fe8-9245-cae3016f65fd",
      "metadata": {
        "id": "aa77941f-92ea-4fe8-9245-cae3016f65fd"
      },
      "outputs": [],
      "source": [
        "x = 1\n",
        "y = 0\n",
        "print(x >= 2 and  y != 0 and (x/y) > 2)"
      ]
    },
    {
      "cell_type": "code",
      "execution_count": null,
      "id": "7fe09730-d9e8-427e-a5d7-7cea568e7754",
      "metadata": {
        "id": "7fe09730-d9e8-427e-a5d7-7cea568e7754"
      },
      "outputs": [],
      "source": [
        "x = 10\n",
        "y = 2\n",
        "print(x >= 2 and  y != 0 and (x/y) > 2)"
      ]
    },
    {
      "cell_type": "code",
      "execution_count": null,
      "id": "0e9be198-88b8-452d-804e-c0cdaec2d7a5",
      "metadata": {
        "id": "0e9be198-88b8-452d-804e-c0cdaec2d7a5"
      },
      "outputs": [],
      "source": [
        "x = 2\n",
        "y = 2\n",
        "print(x >= 2 and  y != 0 and (x/y) > 2)"
      ]
    },
    {
      "cell_type": "markdown",
      "source": [
        "\n",
        "\n",
        "---\n",
        "\n"
      ],
      "metadata": {
        "id": "8T7GE3hGdmV-"
      },
      "id": "8T7GE3hGdmV-"
    }
  ],
  "metadata": {
    "kernelspec": {
      "display_name": "Python 3 (ipykernel)",
      "language": "python",
      "name": "python3"
    },
    "language_info": {
      "codemirror_mode": {
        "name": "ipython",
        "version": 3
      },
      "file_extension": ".py",
      "mimetype": "text/x-python",
      "name": "python",
      "nbconvert_exporter": "python",
      "pygments_lexer": "ipython3",
      "version": "3.12.7"
    },
    "colab": {
      "provenance": [],
      "include_colab_link": true
    }
  },
  "nbformat": 4,
  "nbformat_minor": 5
}