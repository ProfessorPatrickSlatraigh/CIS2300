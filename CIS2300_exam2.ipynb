{
  "nbformat": 4,
  "nbformat_minor": 0,
  "metadata": {
    "colab": {
      "provenance": [],
      "authorship_tag": "ABX9TyM5MjsK1T3vnfC8uu0VM8+0",
      "include_colab_link": true
    },
    "kernelspec": {
      "name": "python3",
      "display_name": "Python 3"
    },
    "language_info": {
      "name": "python"
    }
  },
  "cells": [
    {
      "cell_type": "markdown",
      "metadata": {
        "id": "view-in-github",
        "colab_type": "text"
      },
      "source": [
        "<a href=\"https://colab.research.google.com/github/ProfessorPatrickSlatraigh/CIS2300/blob/main/CIS2300_exam2.ipynb\" target=\"_parent\"><img src=\"https://colab.research.google.com/assets/colab-badge.svg\" alt=\"Open In Colab\"/></a>"
      ]
    },
    {
      "cell_type": "markdown",
      "source": [
        "# CIS2300 Exam 2 - Programming Section  \n",
        "  \n",
        "*Problems and sample solutions with test executions.*  \n",
        "\n",
        "*A copy of this notebook is available at [bit.ly/cis2300exam2](https://bit.ly/cis2300exam2)*   "
      ],
      "metadata": {
        "id": "P_b8va5fOwcX"
      }
    },
    {
      "cell_type": "markdown",
      "source": [
        "\n",
        "\n",
        "---\n",
        "\n"
      ],
      "metadata": {
        "id": "tsBtwOevegIp"
      }
    },
    {
      "cell_type": "markdown",
      "source": [
        "## Max List"
      ],
      "metadata": {
        "id": "qU8HXb2zRjrG"
      }
    },
    {
      "cell_type": "markdown",
      "source": [
        "#### QUESTION\n",
        "  \n",
        "Write a function `find_max(lst)` that takes a list of numbers and returns the largest number in the list."
      ],
      "metadata": {
        "id": "PTPrTUZXeRwr"
      }
    },
    {
      "cell_type": "markdown",
      "source": [
        "### <font color= green>SOLUTION</font>"
      ],
      "metadata": {
        "id": "M1OM6rQAfpVF"
      }
    },
    {
      "cell_type": "markdown",
      "source": [
        "#### EXPLANATION  \n",
        "  \n",
        "The program should take a list of numbers called `lst` and return the largest number in that list. It will start by assuming the first number is the largest, then compare each number in the list to that value. If a larger number is found, it updates the maximum (`max_val`). After checking all elements, it returns `max_val` as the largest number found."
      ],
      "metadata": {
        "id": "tykl8R9DevHz"
      }
    },
    {
      "cell_type": "markdown",
      "source": [
        "#### CODE"
      ],
      "metadata": {
        "id": "YLCXhFNjek5l"
      }
    },
    {
      "cell_type": "code",
      "execution_count": 1,
      "metadata": {
        "id": "SNaMqgElOU7x"
      },
      "outputs": [],
      "source": [
        "def find_max(lst):\n",
        "    lst.reverse()\n",
        "    max_val= lst[-1]\n",
        "    return max_val"
      ]
    },
    {
      "cell_type": "markdown",
      "source": [
        "#### TEST EXECUTION"
      ],
      "metadata": {
        "id": "CezDNO6xeoF8"
      }
    },
    {
      "cell_type": "code",
      "source": [
        "lst = [9, 75, 16, 12, 0]   # create a test list"
      ],
      "metadata": {
        "id": "q3vqL7D1RRPZ"
      },
      "execution_count": 20,
      "outputs": []
    },
    {
      "cell_type": "code",
      "source": [
        "find_max(lst)  # should return 75"
      ],
      "metadata": {
        "id": "cThnXe8FRX-g"
      },
      "execution_count": null,
      "outputs": []
    },
    {
      "cell_type": "markdown",
      "source": [
        "\n",
        "\n",
        "---\n",
        "\n"
      ],
      "metadata": {
        "id": "BKt7HF8qehUj"
      }
    },
    {
      "cell_type": "markdown",
      "source": [
        "## Reverse String"
      ],
      "metadata": {
        "id": "l_uK8MfgRncQ"
      }
    },
    {
      "cell_type": "markdown",
      "source": [
        "#### QUESTION TEXT  \n",
        "  \n",
        "Write a function `reverse_string(s)` that takes a string `s` and returns it reversed. Do not use [::-1].  "
      ],
      "metadata": {
        "id": "GfOvc1fNfBp4"
      }
    },
    {
      "cell_type": "markdown",
      "source": [
        "### <font color= green>SOLUTION</font>"
      ],
      "metadata": {
        "id": "lfd6yxIUcmdQ"
      }
    },
    {
      "cell_type": "markdown",
      "source": [
        "#### EXPLANATION  \n",
        "  \n",
        "The program should take a string `s` as input and reverse the order of its characters without using slicing ([::-1]). This can be done by initializing an empty string and then adding each character from the end of the original string to the beginning of the new string using a loop. The final reversed string should be returned."
      ],
      "metadata": {
        "id": "-k-714W6fRZ2"
      }
    },
    {
      "cell_type": "markdown",
      "source": [
        "#### CODE"
      ],
      "metadata": {
        "id": "98jzC4DodYK6"
      }
    },
    {
      "cell_type": "code",
      "source": [
        "def reverse_string(s):\n",
        "    reversed_str = ''\n",
        "    for char in s:\n",
        "        reversed_str = char + reversed_str\n",
        "    return reversed_str"
      ],
      "metadata": {
        "id": "FvXutrgzc1o7"
      },
      "execution_count": null,
      "outputs": []
    },
    {
      "cell_type": "markdown",
      "source": [
        "##### <font color=green>alternate solution</font>\n",
        "*The solution above is preferred because it does not use slicing.  \n",
        "This alternative solution does use slicing which was not clearly prohibited in the question posed.*"
      ],
      "metadata": {
        "id": "y5n0ixCtcjs5"
      }
    },
    {
      "cell_type": "code",
      "source": [
        "def reverse_string(s):\n",
        "    if len(s) <=1:\n",
        "         return s\n",
        "    else:\n",
        "          return reverse_string(s[1:])+s[0]"
      ],
      "metadata": {
        "id": "A0EhY71MS7fU"
      },
      "execution_count": 17,
      "outputs": []
    },
    {
      "cell_type": "code",
      "source": [
        "s = \"Hello World!\""
      ],
      "metadata": {
        "id": "HFtBs-nmRyM4"
      },
      "execution_count": 16,
      "outputs": []
    },
    {
      "cell_type": "markdown",
      "source": [
        "#### TEST EXECUTION"
      ],
      "metadata": {
        "id": "CggYC55jeG4B"
      }
    },
    {
      "cell_type": "code",
      "source": [
        "reverse_string(s)  # should return '!dlroW olleH'"
      ],
      "metadata": {
        "id": "7f6XsH8vR09V"
      },
      "execution_count": null,
      "outputs": []
    },
    {
      "cell_type": "markdown",
      "source": [
        "\n",
        "\n",
        "---\n",
        "\n"
      ],
      "metadata": {
        "id": "eSlDHntpfjoU"
      }
    },
    {
      "cell_type": "markdown",
      "source": [
        "## Fizz Buzz"
      ],
      "metadata": {
        "id": "eVfrFKDGSdSu"
      }
    },
    {
      "cell_type": "markdown",
      "source": [
        "#### QUESTION  \n",
        "  \n",
        "Write a function fizzbuzz(n) that prints numbers from 1 to n.\n",
        "\n",
        "- If a number is divisible by 3, print \"Fizz\".  \n",
        "- If a number is divisible by 5, print \"Buzz\".  \n",
        "- If a number is divisible by both 3 and 5, print \"FizzBuzz\".  \n",
        "- Otherwise, print the number itself.  \n"
      ],
      "metadata": {
        "id": "kF8n8uY9fx4R"
      }
    },
    {
      "cell_type": "markdown",
      "source": [
        "### <font color= green>SOLUTION</font>"
      ],
      "metadata": {
        "id": "7iljHJY_f9xW"
      }
    },
    {
      "cell_type": "markdown",
      "source": [
        "#### EXPLANATION\n",
        "   \n",
        "The program should print the numbers from 1 to n, but with special rules. If a number is divisible by 3, it should print \"Fizz\" instead of the number. If it is divisible by 5, it should print \"Buzz\". If the number is divisible by both 3 and 5, it should print \"FizzBuzz\". All other numbers should be printed normally."
      ],
      "metadata": {
        "id": "aktRDhfBgAF1"
      }
    },
    {
      "cell_type": "markdown",
      "source": [
        "#### CODE  "
      ],
      "metadata": {
        "id": "RzeKpbxEgHmN"
      }
    },
    {
      "cell_type": "code",
      "source": [
        "def fizzbuzz(n):\n",
        "    for i in range(1, n + 1):\n",
        "        if i % 3 == 0 and i % 5 == 0:\n",
        "            print(\"FizzBuzz\")\n",
        "        elif i % 3 == 0:\n",
        "            print(\"Fizz\")\n",
        "        elif i % 5 == 0:\n",
        "            print(\"Buzz\")\n",
        "        else:\n",
        "            print(i)"
      ],
      "metadata": {
        "id": "pFJf4SOvSfUC"
      },
      "execution_count": 26,
      "outputs": []
    },
    {
      "cell_type": "markdown",
      "source": [
        "#### TEST EXECUTION  "
      ],
      "metadata": {
        "id": "VNLIMVYDgNqU"
      }
    },
    {
      "cell_type": "code",
      "source": [
        "fizzbuzz(15)  #  should return [1, 2, Fizz, 4, Buzz, Fizz, 7, 8, Fizz, Buzz, 11, Fizz, 13, 14, FizzBuzz]"
      ],
      "metadata": {
        "id": "soarWCsfgRQB"
      },
      "execution_count": null,
      "outputs": []
    },
    {
      "cell_type": "markdown",
      "source": [
        "\n",
        "\n",
        "---\n",
        "\n"
      ],
      "metadata": {
        "id": "ZfJ3LdjlgQkL"
      }
    },
    {
      "cell_type": "markdown",
      "source": [
        "## Sum Multiples  "
      ],
      "metadata": {
        "id": "Crzx04L1URX9"
      }
    },
    {
      "cell_type": "markdown",
      "source": [
        "#### QUESTION  \n",
        "  \n",
        "Write a function `sum_of_multiples(n, x)` that takes two integers `n` and `x` and returns the sum of all multiples of `x` up to (and including) `n`.  "
      ],
      "metadata": {
        "id": "XkrnnEKxgpHl"
      }
    },
    {
      "cell_type": "markdown",
      "source": [
        "### <font color= green>SOLUTION</font>"
      ],
      "metadata": {
        "id": "zK_wILPbUccb"
      }
    },
    {
      "cell_type": "markdown",
      "source": [
        "#### EXPLANATION  \n",
        "  \n",
        "The program should take two integers, `n` and `x`, and find all numbers from 1 to `n` that are divisible by `x`. It should then add these numbers together to get the total `sum`. The result should be returned from the function."
      ],
      "metadata": {
        "id": "0S3jchLLUsVR"
      }
    },
    {
      "cell_type": "markdown",
      "source": [
        "#### CODE"
      ],
      "metadata": {
        "id": "tzwBLwWdVKQs"
      }
    },
    {
      "cell_type": "code",
      "source": [
        "def sum_of_multiples(n, x):\n",
        "    total = 0\n",
        "    for i in range(1, n + 1):\n",
        "        if i % x == 0:\n",
        "            total += i\n",
        "    return total"
      ],
      "metadata": {
        "id": "CVP7iwy8UbhA"
      },
      "execution_count": 24,
      "outputs": []
    },
    {
      "cell_type": "markdown",
      "source": [
        "#### TEST EXECUTION"
      ],
      "metadata": {
        "id": "F8_C5XSkberp"
      }
    },
    {
      "cell_type": "code",
      "source": [
        "sum_of_multiples(10, 3)  # should return 18"
      ],
      "metadata": {
        "id": "pZ9-7CSyUXQP"
      },
      "execution_count": null,
      "outputs": []
    },
    {
      "cell_type": "markdown",
      "source": [
        "\n",
        "\n",
        "---\n",
        "\n"
      ],
      "metadata": {
        "id": "OCR7qsoQg6qj"
      }
    },
    {
      "cell_type": "markdown",
      "source": [
        "## Number Vowels  "
      ],
      "metadata": {
        "id": "H1yJiJpxhOvd"
      }
    },
    {
      "cell_type": "markdown",
      "source": [
        "#### QUESTION  \n",
        "  \n",
        "Write a function `count_vowels(s)` that takes a string `s` and returns the number of vowels (\"a\", \"e\", \"i\", \"o\", \"u\") in the string."
      ],
      "metadata": {
        "id": "IvG8l1PEhSqL"
      }
    },
    {
      "cell_type": "markdown",
      "source": [
        "### <font color= green>SOLUTION</font>"
      ],
      "metadata": {
        "id": "x1x-vg8fhccT"
      }
    },
    {
      "cell_type": "markdown",
      "source": [
        "#### EXPLANATION  \n",
        "  \n",
        "The program should take a string `s` and count how many vowels it contains. It will check each character in the string to see if it is a vowel by comparing it to a set of vowel characters. If a character is a vowel, the count is increased by one. The function returns the total number of vowels found.  \n",
        "  \n",
        "*Because the question included a reference to only lower-case vowels, full credit is given for solutions that only count lower-case vowels, though the preferred solution would treat both upper-case and lower-case vowels.*  "
      ],
      "metadata": {
        "id": "18JVzcRbhhZn"
      }
    },
    {
      "cell_type": "markdown",
      "source": [
        "#### CODE"
      ],
      "metadata": {
        "id": "7yIkP0wjh_oA"
      }
    },
    {
      "cell_type": "code",
      "source": [
        "def count_vowels(s):\n",
        "    vowels = \"aeiouAEIOU\"\n",
        "    count = 0\n",
        "    for char in s:\n",
        "        if char in vowels:\n",
        "            count += 1\n",
        "    return count"
      ],
      "metadata": {
        "id": "GaP6qsCPiBU5"
      },
      "execution_count": 28,
      "outputs": []
    },
    {
      "cell_type": "markdown",
      "source": [
        "#### TEST EXECUTION  "
      ],
      "metadata": {
        "id": "KEw0Gu7riDxq"
      }
    },
    {
      "cell_type": "code",
      "source": [
        "count_vowels(\"Hello World!\")  # should return 3"
      ],
      "metadata": {
        "id": "EM_-uvQFiFyK"
      },
      "execution_count": null,
      "outputs": []
    },
    {
      "cell_type": "markdown",
      "source": [
        "\n",
        "\n",
        "---\n",
        "\n"
      ],
      "metadata": {
        "id": "rXCCasPXiar_"
      }
    }
  ]
}